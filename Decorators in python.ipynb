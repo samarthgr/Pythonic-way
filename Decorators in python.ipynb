{
 "cells": [
  {
   "cell_type": "markdown",
   "metadata": {},
   "source": [
    "# Python Decorators\n",
    "\n",
    "How decorators work and how to use them.\n",
    "\n",
    "\n"
   ]
  },
  {
   "cell_type": "markdown",
   "metadata": {},
   "source": [
    "## Closures or First Class Functions\n",
    "\n",
    "In order to undestand Decorators, first its necessary to understand closure or first class function.\n",
    "\n",
    "First call functions allow us to treat functions like any other objects. We can pass function as an argument to another function, we can return functions and we can assign function to variables.\n",
    "\n",
    "Closure will allow us to take advantage of first class functions and returns an inner function that remembers and has access to variables locate to the scope in which they were created."
   ]
  },
  {
   "cell_type": "code",
   "execution_count": 6,
   "metadata": {},
   "outputs": [
    {
     "name": "stdout",
     "output_type": "stream",
     "text": [
      "Hi!!\n",
      "Bye!!\n"
     ]
    }
   ],
   "source": [
    "# Example of closure function\n",
    "def outer_function(msg):\n",
    "    \n",
    "    def inner_function():\n",
    "        print(msg)\n",
    "        \n",
    "    return inner_function\n",
    "\n",
    "hi_func = outer_function(\"Hi!!\")\n",
    "bye_func = outer_function(\"Bye!!\")\n",
    "\n",
    "hi_func()\n",
    "bye_func()\n"
   ]
  },
  {
   "cell_type": "markdown",
   "metadata": {},
   "source": [
    "## Decorator\n",
    "\n",
    "Decorator is a function that takes another function as arguments adds some kind of functionality and returns another function. All of this without altering the source code of original function passed in."
   ]
  },
  {
   "cell_type": "code",
   "execution_count": 21,
   "metadata": {},
   "outputs": [
    {
     "name": "stdout",
     "output_type": "stream",
     "text": [
      "wrapper is executed this before: display\n",
      "display function ran\n",
      "wrapper is executed this before: display_info\n",
      "display_info ran with arguments (john, 30)\n"
     ]
    }
   ],
   "source": [
    "# Example of decorator as function\n",
    "def decorator_function(original_function):\n",
    "    def wrapper_function(*args, **kwargs):\n",
    "        print(\"wrapper is executed this before: {}\".format(original_function.__name__))\n",
    "        return original_function(*args, **kwargs)\n",
    "    return wrapper_function\n",
    "\n",
    "# One way of calling decorator function\n",
    "def display():\n",
    "    print(\"display function ran\")\n",
    "\n",
    "decorated_display = decorator_function(display)\n",
    "decorated_display()\n",
    "\n",
    "# More general way of calling decorator\n",
    "@decorator_function\n",
    "def display_info(name, age):\n",
    "    print(\"display_info ran with arguments ({}, {})\".format(name, age))\n",
    "\n",
    "display_info('john', 30)"
   ]
  },
  {
   "cell_type": "code",
   "execution_count": 23,
   "metadata": {},
   "outputs": [
    {
     "name": "stdout",
     "output_type": "stream",
     "text": [
      "call method is executed this before: display_info\n",
      "display_info ran with arguments (john, 30)\n"
     ]
    }
   ],
   "source": [
    "# Example of decorator as class\n",
    "class decorator_class(object):\n",
    "    \n",
    "    def __init__(self, original_function):\n",
    "        self.original_function = original_function\n",
    "    \n",
    "    def __call__(self, *args, **kwargs):\n",
    "        print(\"call method is executed this before: {}\".format(self.original_function.__name__))\n",
    "        return self.original_function(*args, **kwargs)\n",
    "\n",
    "@decorator_class\n",
    "def display_info(name, age):\n",
    "    print(\"display_info ran with arguments ({}, {})\".format(name, age))\n",
    "\n",
    "display_info('john', 30)"
   ]
  },
  {
   "cell_type": "markdown",
   "metadata": {},
   "source": [
    "## Practical examles of decorators\n",
    "\n",
    "1. logging\n",
    "2. Timing function"
   ]
  },
  {
   "cell_type": "code",
   "execution_count": 26,
   "metadata": {},
   "outputs": [
    {
     "name": "stdout",
     "output_type": "stream",
     "text": [
      "display_info ran with arguments (hank, 28)\n"
     ]
    }
   ],
   "source": [
    "# logging as a decorator function\n",
    "def my_logger(orin_func):\n",
    "    import logging\n",
    "    logging.basicConfig(filename='{}.log'.format(orin_func.__name__), level=logging.INFO)\n",
    "    \n",
    "    def wrapper(*args, **kwargs):\n",
    "        logging.info(\"Ran with args: {}, and kwargs:{}\".format(args, kwargs))\n",
    "        return orin_func(*args, **kwargs)\n",
    "    \n",
    "    return wrapper\n",
    "\n",
    "@my_logger\n",
    "def display_info(name, age):\n",
    "    print(\"display_info ran with arguments ({}, {})\".format(name, age))\n",
    "\n",
    "display_info('hank', 28)"
   ]
  },
  {
   "cell_type": "code",
   "execution_count": 28,
   "metadata": {},
   "outputs": [
    {
     "name": "stdout",
     "output_type": "stream",
     "text": [
      "display_info ran with arguments (hank, 28)\n",
      "display_info ran in: 1.0002059936523438 sec.\n"
     ]
    }
   ],
   "source": [
    "# Timer as a function\n",
    "def my_timer(orig_func):\n",
    "    import time\n",
    "    \n",
    "    def wrapper(*args, **kwargs):\n",
    "        t1 = time.time()\n",
    "        result = orig_func(*args,  **kwargs)\n",
    "        t2 = time.time() - t1\n",
    "        print(\"{} ran in: {} sec.\".format(orig_func.__name__, t2))\n",
    "        return result\n",
    "    \n",
    "    return wrapper\n",
    "\n",
    "import time\n",
    "\n",
    "@my_timer\n",
    "def display_info(name, age):\n",
    "    time.sleep(1)\n",
    "    print(\"display_info ran with arguments ({}, {})\".format(name, age))\n",
    "\n",
    "display_info('hank', 28)\n"
   ]
  },
  {
   "cell_type": "markdown",
   "metadata": {},
   "source": [
    "## Multiple decorator to same function\n",
    "\n",
    "To apply multiple decorator to same function, we have to apply wraps decorator to our custom decorators"
   ]
  },
  {
   "cell_type": "code",
   "execution_count": 31,
   "metadata": {},
   "outputs": [
    {
     "name": "stdout",
     "output_type": "stream",
     "text": [
      "display_info ran with arguments (hank, 28)\n",
      "display_info ran in: 1.0000078678131104 sec.\n"
     ]
    }
   ],
   "source": [
    "from functools import wraps\n",
    "\n",
    "# logging as a decorator function\n",
    "def my_logger(orig_func):\n",
    "    import logging\n",
    "    logging.basicConfig(filename='{}.log'.format(orig_func.__name__), level=logging.INFO)\n",
    "    \n",
    "    @wraps(orig_func)\n",
    "    def wrapper(*args, **kwargs):\n",
    "        logging.info(\"Ran with args: {}, and kwargs:{}\".format(args, kwargs))\n",
    "        return orig_func(*args, **kwargs)\n",
    "    \n",
    "    return wrapper\n",
    "\n",
    "# Timer as a function\n",
    "def my_timer(orig_func):\n",
    "    import time\n",
    "    \n",
    "    @wraps(orig_func)\n",
    "    def wrapper(*args, **kwargs):\n",
    "        t1 = time.time()\n",
    "        result = orig_func(*args,  **kwargs)\n",
    "        t2 = time.time() - t1\n",
    "        print(\"{} ran in: {} sec.\".format(orig_func.__name__, t2))\n",
    "        return result\n",
    "    \n",
    "    return wrapper\n",
    "\n",
    "import time\n",
    "\n",
    "@my_logger\n",
    "@my_timer\n",
    "def display_info(name, age):\n",
    "    time.sleep(1)\n",
    "    print(\"display_info ran with arguments ({}, {})\".format(name, age))\n",
    "\n",
    "display_info('hank', 28)"
   ]
  },
  {
   "cell_type": "markdown",
   "metadata": {},
   "source": [
    "# Resourece\n",
    "\n",
    "A video on Corey Schafer - [Decorator - Dynamically Alter The Functionality Of Your Functions](https://youtu.be/FaAPt_9Bf3U)\n",
    "\n",
    "\n",
    "# Comments or Questions?\n",
    "\n",
    "* Email: samarthgiripura@gmail.com\n",
    "* linked in: [Samarth G R](linkedin.com/in/samarthgr)\n",
    "* Twitter: @samarthgr"
   ]
  }
 ],
 "metadata": {
  "kernelspec": {
   "display_name": "Python 3",
   "language": "python",
   "name": "python3"
  },
  "language_info": {
   "codemirror_mode": {
    "name": "ipython",
    "version": 3
   },
   "file_extension": ".py",
   "mimetype": "text/x-python",
   "name": "python",
   "nbconvert_exporter": "python",
   "pygments_lexer": "ipython3",
   "version": "3.5.6"
  }
 },
 "nbformat": 4,
 "nbformat_minor": 2
}
