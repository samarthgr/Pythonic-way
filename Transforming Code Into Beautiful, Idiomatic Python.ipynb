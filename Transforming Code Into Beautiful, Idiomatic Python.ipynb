{
 "cells": [
  {
   "cell_type": "markdown",
   "metadata": {},
   "source": [
    "# Transforming Code Into Beautiful, Idiomatic Python\n",
    "\n",
    "## When you see this, do that instead!\n",
    "* Replace traditional idex manipulation with python's core looping idioms\n",
    "* Learn advanced techniques with for-else clauses and the two arguments form of iter()\n",
    "* Improve your craftmanship and aim for clean, fast, idiomatic Python code\n",
    "\n",
    "NOTE: \n",
    "1. Don't try to execute this notebook, as this contains code of python2 and python3.\n",
    "2. This is just like a referance guide, use the snippets of this in your other python files \n"
   ]
  },
  {
   "cell_type": "markdown",
   "metadata": {},
   "source": [
    "## Looping over range of numbers"
   ]
  },
  {
   "cell_type": "code",
   "execution_count": null,
   "metadata": {},
   "outputs": [],
   "source": [
    "# Python's for is not same as the for in c program. Its like forEach iterates over list of elements\n",
    "\n",
    "# make a list and loop over the list\n",
    "for i in [0, 1, 2, 3, 4, 5]:\n",
    "    print i**2\n",
    "\n",
    "# is there a better way...?\n",
    "for i in range(6):\n",
    "    print i**2\n",
    "\n",
    "# Both the for loops above does the same think in exactly the same way. \n",
    "\n",
    "# for loop as in c program use xrange\n",
    "# xrange creates a iter over the range producing values one at a time.\n",
    "for i in xrange(6):\n",
    "    print i**2\n"
   ]
  },
  {
   "cell_type": "markdown",
   "metadata": {},
   "source": [
    "In **Python 3** - \n",
    "old **range** no longer exists. Renamed xrange to range "
   ]
  },
  {
   "cell_type": "code",
   "execution_count": null,
   "metadata": {},
   "outputs": [],
   "source": [
    "# for loop with iterator in python3. Beautiful and elegent\n",
    "for i in range(6):\n",
    "    print(i**2)"
   ]
  },
  {
   "cell_type": "markdown",
   "metadata": {},
   "source": [
    "## Looping over a collection"
   ]
  },
  {
   "cell_type": "code",
   "execution_count": null,
   "metadata": {},
   "outputs": [],
   "source": [
    "colors = ['red', 'green', 'blue', 'yellow']\n",
    "\n",
    "# doing in c way - WRONG\n",
    "for i in range(len(colors)):\n",
    "    print colors[i]\n",
    "\n",
    "# pythonic way - RIGHT\n",
    "for color in colors:\n",
    "    print color"
   ]
  },
  {
   "cell_type": "markdown",
   "metadata": {},
   "source": [
    "## Looping backwards"
   ]
  },
  {
   "cell_type": "code",
   "execution_count": null,
   "metadata": {},
   "outputs": [],
   "source": [
    "# doing in c way - WRONG\n",
    "for i in range(len(colors)-1, -1, -1):\n",
    "    print colors[i]\n",
    "\n",
    "# pythonic way - RIGHT\n",
    "# more fast and beautiful\n",
    "for color in reversed(colors):\n",
    "    print color"
   ]
  },
  {
   "cell_type": "markdown",
   "metadata": {},
   "source": [
    "## Looping over collection and indicies"
   ]
  },
  {
   "cell_type": "code",
   "execution_count": null,
   "metadata": {},
   "outputs": [],
   "source": [
    "# doing in c way - WRONG\n",
    "for i in range(len(colors)):\n",
    "    print i, '-->', colors[i]\n",
    "\n",
    "# pythonic way - RIGHT\n",
    "# enumerate - its fast, beautiful and its saves you from tracking individual indicies and increamenting them\n",
    "for i, color in enumerate(colors):\n",
    "    print i, '-->', color"
   ]
  },
  {
   "cell_type": "markdown",
   "metadata": {},
   "source": [
    "## Looping over two collections"
   ]
  },
  {
   "cell_type": "code",
   "execution_count": null,
   "metadata": {},
   "outputs": [],
   "source": [
    "names = ['raymond', 'rachel', 'matthew']\n",
    "colors = ['red', 'green', 'blue', 'yellow']\n",
    "\n",
    "# doing it in c way - WRONG\n",
    "n = min(len(names), len(colors))\n",
    "for i in range(n):\n",
    "    print names[i], '-->', colors[i]\n",
    "    \n",
    "# pythonic way\n",
    "# use zip - Its was there from the first. clean and beautiful\n",
    "# problem with zip - takes more mem as it creates third list which is tuple of two lists\n",
    "for name, color in zip(names, colors):\n",
    "    print name, '-->', color\n",
    "\n",
    "# use izip - RIGHT way\n",
    "# iterator to zip\n",
    "for name, color in izip(names, colors):\n",
    "    print name, '-->', color"
   ]
  },
  {
   "cell_type": "markdown",
   "metadata": {},
   "source": [
    "## Looping in sorted order"
   ]
  },
  {
   "cell_type": "code",
   "execution_count": null,
   "metadata": {},
   "outputs": [],
   "source": [
    "# RIGHT ways\n",
    "for color in sorted(colors):\n",
    "    print color\n",
    "    \n",
    "for color in sorted(colors, reverse=True):\n",
    "    print color"
   ]
  },
  {
   "cell_type": "markdown",
   "metadata": {},
   "source": [
    "## Custom sort order"
   ]
  },
  {
   "cell_type": "code",
   "execution_count": null,
   "metadata": {},
   "outputs": [],
   "source": [
    "# n * log n complexity\n",
    "def compare_length(c1, c2):\n",
    "    if len(c1) < len(c2): return -1\n",
    "    if len(c1) > len(c2): return 1\n",
    "    return 0\n",
    "\n",
    "print sorted(colors, cmp=compare_length)\n",
    "\n",
    "# Better way\n",
    "# use key, its almost always shorter than comp fn\n",
    "# compare fn is no longer in python3\n",
    "print sorted(colors, key=len)"
   ]
  },
  {
   "cell_type": "markdown",
   "metadata": {},
   "source": [
    "## Call a function until a sentinal value"
   ]
  },
  {
   "cell_type": "code",
   "execution_count": null,
   "metadata": {},
   "outputs": [],
   "source": [
    "# Traditional way\n",
    "blocks = []\n",
    "while True:\n",
    "    block = f.read(32)\n",
    "    if block == '':\n",
    "        break\n",
    "    blocks.append(block)\n",
    "\n",
    "# RIGHT way\n",
    "# iter can take 2 args\n",
    "# first arg of iter should always be no-arg fn. partial is used to convert f.read fn to no-arg fn\n",
    "for block in iter(partial(f.read, 32), ''):\n",
    "    blocks.append(block)"
   ]
  },
  {
   "cell_type": "markdown",
   "metadata": {},
   "source": [
    "## Distinguishing multiple exit points in loops"
   ]
  },
  {
   "cell_type": "code",
   "execution_count": null,
   "metadata": {},
   "outputs": [],
   "source": [
    "# Traditional way\n",
    "def find(seq, target):\n",
    "    found = False\n",
    "    for i, value in enumerate(seq):\n",
    "        if value == target:\n",
    "            found = True\n",
    "            break\n",
    "    if not found:\n",
    "        return -1\n",
    "    return i\n",
    "\n",
    "# RIGHT way\n",
    "def find(seq, target):\n",
    "    for i, value in enumerate(seq):\n",
    "        if value == target:\n",
    "            break\n",
    "    else:\n",
    "        return -1\n",
    "    return i"
   ]
  },
  {
   "cell_type": "markdown",
   "metadata": {},
   "source": [
    "# Dictionary Skills\n",
    "\n",
    "* Mastering dictionaries is a fundamental python skill\n",
    "* They are fundament tool for expressing relationship, linking, counting and grouping"
   ]
  },
  {
   "cell_type": "markdown",
   "metadata": {},
   "source": [
    "## Loop over dictionary keys"
   ]
  },
  {
   "cell_type": "code",
   "execution_count": null,
   "metadata": {},
   "outputs": [],
   "source": [
    "d = {'matthew': 'blue', 'rachel' : 'green', 'raymond' : 'red'}\n",
    "\n",
    "for k in d:\n",
    "    print k\n",
    "\n",
    "# another way to loop dictionary\n",
    "# this should be used when you are mutating the dictionary\n",
    "# \"If you mutate something while you are iterating over it, \n",
    "#  you are living in state of sin and you deserve whatever happends to you\" - Raymond Hettinger\n",
    "for k in d.keys():\n",
    "    if k.startswith('r'):\n",
    "        del d[k]\n",
    "\n",
    "# some more ways\n",
    "d = {k : d[k] for k in d if k.startswith('r')}"
   ]
  },
  {
   "cell_type": "markdown",
   "metadata": {},
   "source": [
    "## looping over a dictionary keys and values"
   ]
  },
  {
   "cell_type": "code",
   "execution_count": null,
   "metadata": {},
   "outputs": [],
   "source": [
    "# one way\n",
    "# but its not very fast\n",
    "# it has to rehash every key and go do lookup on it\n",
    "for k in d:\n",
    "    print k, '-->', d[k]\n",
    "\n",
    "# BETTER way\n",
    "# here rehashing won't happen so no lookup's are involved.\n",
    "for k, v in d.items():\n",
    "    print k, '-->', v\n",
    "\n",
    "# RIGHT Way\n",
    "# disadvantage of above loop - items makes a huge list\n",
    "# use iteritems\n",
    "for k, v in d.iteritems():\n",
    "    print k, '-->', v\n"
   ]
  },
  {
   "cell_type": "markdown",
   "metadata": {},
   "source": [
    "## Construct a dictionary from pairs"
   ]
  },
  {
   "cell_type": "code",
   "execution_count": null,
   "metadata": {},
   "outputs": [],
   "source": [
    "names = ['raymond', 'rachel', 'matthew']\n",
    "colors = ['red', 'green', 'blue']\n",
    "\n",
    "# izip just uses one tuple and iterates over the same\n",
    "# this is fast, beautiful\n",
    "d = dict(izip(names, colors))\n",
    "# d = {'matthew': 'blue', 'rachel' : 'green', 'raymond' : 'red'}\n",
    "\n",
    "# to construct dict from single list\n",
    "d = dict(enumerate(names))\n",
    "# d = {0: 'raymond', 1: 'rachel', 2: 'matthew'}"
   ]
  },
  {
   "cell_type": "markdown",
   "metadata": {},
   "source": [
    "## Counting the dictionaries"
   ]
  },
  {
   "cell_type": "code",
   "execution_count": null,
   "metadata": {},
   "outputs": [],
   "source": [
    "# !st way - BASIC\n",
    "# loop over colors, check if color is not there in dict, add it\n",
    "colors = ['red', 'green', 'red', 'blue', 'green', 'red']\n",
    "\n",
    "d = {}\n",
    "for color in colors:\n",
    "    if color not in d:\n",
    "        d[color] = 0\n",
    "    d[color] += 1\n",
    "# d = {'red': 3, 'blue': 1, 'green': 2}\n",
    "\n",
    "# improvements to above way\n",
    "# use get\n",
    "d = {}\n",
    "for color in colors:\n",
    "    d[color] = d.get(color, 0) + 1\n",
    "\n",
    "# More modren way\n",
    "# use defaultdict\n",
    "d = defaultdict(int)\n",
    "for color in colors:\n",
    "    d[color] += 1\n",
    "\n",
    "\"\"\"\n",
    "For last way, you need to know,\n",
    "* import collections\n",
    "* learn the destingtion between regular dict and default dict\n",
    "* Know about factory functions\n",
    "* int can be called with no arguments, and it returns 0\n",
    "* return value of defaultdict is not actually a dictionary, \n",
    "    its defaultdict and should be converted back to some use cases\n",
    "\"\"\" \n"
   ]
  },
  {
   "cell_type": "markdown",
   "metadata": {},
   "source": [
    "## Grouping with dictionaries "
   ]
  },
  {
   "cell_type": "code",
   "execution_count": null,
   "metadata": {},
   "outputs": [],
   "source": [
    "names  = ['raymond', 'rachel', 'matthew', 'roger', 'betty', 'melissa', 'judith', 'charlie']\n",
    "\n",
    "# BASIC way\n",
    "d = {}\n",
    "for name in names:\n",
    "    key = len(name)\n",
    "    if key not in d:\n",
    "        d[key] = []\n",
    "    d[key].append(name)\n",
    "# {5: ['roger', 'betty'], 6: ['rachel', 'judith'], 7: ['raymond', 'matthew', 'melissa', 'charlie']}\n",
    "\n",
    "# BETTER way\n",
    "d = {}\n",
    "for name in names:\n",
    "    key = len(name)\n",
    "    d.setdefault(key, []).append(name)\n",
    "    \n",
    "# More modren way\n",
    "d = defaultdict(list)\n",
    "for name in names:\n",
    "    key = len(name)\n",
    "    d[key].append(name)\n",
    "    "
   ]
  },
  {
   "cell_type": "markdown",
   "metadata": {},
   "source": [
    "## Is a dictionary popitem() atomic?"
   ]
  },
  {
   "cell_type": "code",
   "execution_count": null,
   "metadata": {},
   "outputs": [],
   "source": [
    "d = {'matthew': 'blue', 'rachel': 'green', 'raymond': 'red'}\n",
    "\n",
    "while d:\n",
    "    key, value = d.popitem()\n",
    "    print key, '-->', value"
   ]
  },
  {
   "cell_type": "markdown",
   "metadata": {},
   "source": [
    "## Linking dictionaries"
   ]
  },
  {
   "cell_type": "code",
   "execution_count": null,
   "metadata": {},
   "outputs": [],
   "source": [
    "defaults = {'color': 'red', 'user': 'guest'}\n",
    "parser = argparser.ArgumentParser()\n",
    "parser = add_argument('-u', '--user')\n",
    "parser.add_argument('-c', '--color')\n",
    "namespace = parser.parse_args([])\n",
    "command_line_args = {k: v for k, v in vars(namespace).item() if v}\n",
    "\n",
    "# Traditional way\n",
    "# This copies the dictionaries like crazy\n",
    "d = defaults.copy()\n",
    "d.update(os.environ)\n",
    "d.update(command_line_args)\n",
    "\n",
    "# RIGHT way\n",
    "# introduced in python3\n",
    "d = ChainMap(command_line_args, os.environ, defaults)"
   ]
  },
  {
   "cell_type": "markdown",
   "metadata": {},
   "source": [
    "# Improving Clarity\n",
    "\n",
    "* Positional arguments and indicies are nice\n",
    "* keywords and names are better\n",
    "* The first way is convenient for the computer\n",
    "* The sencond corresponds to how human's think"
   ]
  },
  {
   "cell_type": "markdown",
   "metadata": {},
   "source": [
    "## Clarify function calls with keyword arguments"
   ]
  },
  {
   "cell_type": "code",
   "execution_count": null,
   "metadata": {},
   "outputs": [],
   "source": [
    "# conventional way\n",
    "twitter_search('@Obama', False, 20, True)\n",
    "\n",
    "# Improving readablity using keyword arguments\n",
    "twitter_search('@Obama', retweet=False, numtweets=20, popular=True)"
   ]
  },
  {
   "cell_type": "markdown",
   "metadata": {},
   "source": [
    "## Clarify multiple return values with named tuples"
   ]
  },
  {
   "cell_type": "code",
   "execution_count": null,
   "metadata": {},
   "outputs": [],
   "source": [
    "# BAD way\n",
    "doctest.testmod()\n",
    "# (0, 4) - returns tuple\n",
    "\n",
    "# In the above Result, o/p and errors are not readable.\n",
    "# GOOD way\n",
    "# use namedtuple\n",
    "doctest.testmod()\n",
    "# TestResults(failed=0, attempted=4) - returns namedtuple\n",
    "\n",
    "# Namedtuples are sub class to tuples. So, 2nd output is replaceable by 1st and vice versa\n",
    "\n",
    "# how to make the namedtuple...?\n",
    "TestResults = namedtuple('TestResults', ['failed', 'attempted'])"
   ]
  },
  {
   "cell_type": "markdown",
   "metadata": {},
   "source": [
    "## Unpacking sequences"
   ]
  },
  {
   "cell_type": "code",
   "execution_count": null,
   "metadata": {},
   "outputs": [],
   "source": [
    "p = 'Raymond', 'Hettinger', 0x30, 'python@example.com'\n",
    "\n",
    "# BAD way\n",
    "fname = p[0]\n",
    "lname = p[1]\n",
    "age = p[2]\n",
    "email = p[3]\n",
    "\n",
    "# GOOD way - readable\n",
    "fname, lname, age, email = p"
   ]
  },
  {
   "cell_type": "markdown",
   "metadata": {},
   "source": [
    "## Updating multiple state variables"
   ]
  },
  {
   "cell_type": "code",
   "execution_count": null,
   "metadata": {},
   "outputs": [],
   "source": [
    "# Traditional way\n",
    "def fibonacci(n):\n",
    "    x = 0\n",
    "    y = 1\n",
    "    for i in range(n):\n",
    "        print x\n",
    "        t = y\n",
    "        y = x + t\n",
    "        x = t\n",
    "\n",
    "# BETTER way\n",
    "# use tuple packing and unpacking\n",
    "def fibonacci(n):\n",
    "    x, y = 0, 1\n",
    "    for i in range(n):\n",
    "        print x\n",
    "        x, y = y, x+y"
   ]
  },
  {
   "cell_type": "markdown",
   "metadata": {},
   "source": [
    "## Tuple packing and unpacking\n",
    "\n",
    "* Don't under-estimate the advantages of updating state varibales at same time\n",
    "\n",
    "* It eliminates an entire class of errors due to out-of-order updates\n",
    "\n",
    "* It allows high level thinking: \"chunking\""
   ]
  },
  {
   "cell_type": "markdown",
   "metadata": {},
   "source": [
    "## Efficiency\n",
    "\n",
    "* An optimization fundamental rule\n",
    "\n",
    "* Don't cause data to move around unnecessarily\n",
    "\n",
    "* It takes only a little care to avoid O(n^2) behaviour instead of linear behaviour"
   ]
  },
  {
   "cell_type": "markdown",
   "metadata": {},
   "source": [
    "## Concatinating strings"
   ]
  },
  {
   "cell_type": "code",
   "execution_count": null,
   "metadata": {},
   "outputs": [],
   "source": [
    "names = ['raymond', 'rachel', 'matthew', 'roger', 'betty', 'melissa', 'judith','charlie']\n",
    "\n",
    "# BAD way\n",
    "s = names[0]\n",
    "for name in names[1:]:\n",
    "    s += ', ' + name\n",
    "print s\n",
    "\n",
    "# GOOD way\n",
    "print ', '.join(names)"
   ]
  },
  {
   "cell_type": "markdown",
   "metadata": {},
   "source": [
    "## Updating sequences"
   ]
  },
  {
   "cell_type": "code",
   "execution_count": null,
   "metadata": {},
   "outputs": [],
   "source": [
    "# WRONG way\n",
    "names = ['raymond', 'rachel', 'matthew', 'roger', 'betty', 'melissa', 'judith','charlie']\n",
    "\n",
    "del names[0]\n",
    "names.pop(0)\n",
    "names.insert(0, 'mark')\n",
    "\n",
    "# Wrong data structure is used above\n",
    "# runs really slow\n",
    "# CORRECT way\n",
    "\n",
    "names = deque(['raymond', 'rachel', 'matthew', 'roger', 'betty', 'melissa', 'judith','charlie'])\n",
    "\n",
    "del names[0]\n",
    "names.popleft(0)\n",
    "names.appendleft(0, 'mark')\n"
   ]
  },
  {
   "cell_type": "markdown",
   "metadata": {},
   "source": [
    "# Decorators and Context Managers\n",
    "\n",
    "* Helps seperate business login from administrative logic\n",
    "* Clean, beautiful tools for factoring code and improving code reuse\n",
    "* Good naming is essential\n",
    "* Remember the Spiderman rule: With great power, comes great responsibility!"
   ]
  },
  {
   "cell_type": "markdown",
   "metadata": {},
   "source": [
    "## Using decorators to factor-out administrative logic"
   ]
  },
  {
   "cell_type": "code",
   "execution_count": null,
   "metadata": {},
   "outputs": [],
   "source": [
    "# contains both bussiness and administrative login in fn\n",
    "def web_lookup(url, saved={}):\n",
    "    if url in saved:\n",
    "        return saved[url]\n",
    "    page = urllib.urlopen(url).read()\n",
    "    saved[url] = page\n",
    "    return page\n",
    "\n",
    "# Using decorator - GOOD way\n",
    "@cache\n",
    "def web_lookup(url):\n",
    "    return urllib.urlopen(url).read()\n",
    "\n",
    "# caching decorator\n",
    "def cache(func):\n",
    "    saved = {}\n",
    "    @wraps(func)\n",
    "    def newfunc(*args):\n",
    "        if args in saved:\n",
    "            return newfunc(*args)\n",
    "        result = func(*args)\n",
    "        saved[args] = result\n",
    "        return result\n",
    "    return newfunc"
   ]
  },
  {
   "cell_type": "markdown",
   "metadata": {},
   "source": [
    "## Factor-out temporary contexts"
   ]
  },
  {
   "cell_type": "code",
   "execution_count": null,
   "metadata": {},
   "outputs": [],
   "source": [
    "# OLD way\n",
    "old_context = getcontext().copy()\n",
    "getcontext().prec = 50\n",
    "print Decimal(355) / Decimal(113)\n",
    "setcontext(old_context)\n",
    "\n",
    "# BETTER way\n",
    "with localcontext(Context(prec=50)):\n",
    "    print Decimal(355) / Decimal(113)\n",
    "    \n",
    "# anytime setup login and teardown logic gets repeated over and over again in code\n",
    "# use context manager to improve it"
   ]
  },
  {
   "cell_type": "markdown",
   "metadata": {},
   "source": [
    "## How to open and close files"
   ]
  },
  {
   "cell_type": "code",
   "execution_count": null,
   "metadata": {},
   "outputs": [],
   "source": [
    "# OLD way\n",
    "f = open('data.csv')\n",
    "try:\n",
    "    data = f.read()\n",
    "finally:\n",
    "    f.close()\n",
    "    \n",
    "# NEW way\n",
    "with open('data.csv') as f:\n",
    "    data = f.read()"
   ]
  },
  {
   "cell_type": "markdown",
   "metadata": {},
   "source": [
    "## How to use locks"
   ]
  },
  {
   "cell_type": "code",
   "execution_count": 1,
   "metadata": {},
   "outputs": [
    {
     "ename": "SyntaxError",
     "evalue": "Missing parentheses in call to 'print' (<ipython-input-1-688fb79ee8ea>, line 7)",
     "output_type": "error",
     "traceback": [
      "\u001b[1;36m  File \u001b[1;32m\"<ipython-input-1-688fb79ee8ea>\"\u001b[1;36m, line \u001b[1;32m7\u001b[0m\n\u001b[1;33m    print 'Critical section 1'\u001b[0m\n\u001b[1;37m                             ^\u001b[0m\n\u001b[1;31mSyntaxError\u001b[0m\u001b[1;31m:\u001b[0m Missing parentheses in call to 'print'\n"
     ]
    }
   ],
   "source": [
    "# Make a lock\n",
    "lock = threading.Lock()\n",
    "\n",
    "# OLD way to use a lock\n",
    "lock.acquire()\n",
    "try:\n",
    "    print 'Critical section 1'\n",
    "    print 'Critical section 2'\n",
    "finally:\n",
    "    lock.release()\n",
    "\n",
    "# NEW way\n",
    "with lock:\n",
    "    print 'Critical section 1'\n",
    "    print 'Critical section 2'"
   ]
  },
  {
   "cell_type": "markdown",
   "metadata": {},
   "source": [
    "## Factor-out temporary contexts"
   ]
  },
  {
   "cell_type": "code",
   "execution_count": null,
   "metadata": {},
   "outputs": [],
   "source": [
    "# OLD way\n",
    "try:\n",
    "    os.remove('somefile.tmp')\n",
    "except OSError:\n",
    "    pass\n",
    "\n",
    "# NEW way\n",
    "with ignored(OSError):\n",
    "    os.remove('somefile.tmp')"
   ]
  },
  {
   "cell_type": "markdown",
   "metadata": {},
   "source": [
    "## Context  manager: ignored()"
   ]
  },
  {
   "cell_type": "code",
   "execution_count": null,
   "metadata": {},
   "outputs": [],
   "source": [
    "@contextmanager\n",
    "def ignored(*exception):\n",
    "    try:\n",
    "        yield\n",
    "    except exception:\n",
    "        pass"
   ]
  },
  {
   "cell_type": "markdown",
   "metadata": {},
   "source": [
    "## Factor-out temporary contexts"
   ]
  },
  {
   "cell_type": "code",
   "execution_count": null,
   "metadata": {},
   "outputs": [],
   "source": [
    "# OLD way\n",
    "with open('help.txt', 'w') as f:\n",
    "    oldstdout = sys.stdout\n",
    "    sys.stdout = f\n",
    "    try:\n",
    "        help(pow)\n",
    "    finally:\n",
    "        sys.stdout = oldstdout\n",
    "\n",
    "# BETTER waay\n",
    "with open('help.txt', 'w') as f:\n",
    "    with redirect_stdout(f):\n",
    "        help(pow)"
   ]
  },
  {
   "cell_type": "markdown",
   "metadata": {},
   "source": [
    "## Context manager: redirect_stdout()"
   ]
  },
  {
   "cell_type": "code",
   "execution_count": null,
   "metadata": {},
   "outputs": [],
   "source": [
    "@contextmanager\n",
    "def redirect_stdout(fileobj):\n",
    "    oldstdout = sys.stdout\n",
    "    sys.stdout = fileobj\n",
    "    try:\n",
    "        yield fileobj\n",
    "    finally:\n",
    "        sys.stdout = oldstdout"
   ]
  },
  {
   "cell_type": "markdown",
   "metadata": {},
   "source": [
    "# Concise Expressive One-Liners\n",
    "\n",
    "Two conflicting rule:\n",
    "1. Don't put too much on one line\n",
    "2. Don't break atoms of thoughts into subatomic particles\n",
    "\n",
    "Raymon's rule:\n",
    "* One logical line of code equals one sentence in English"
   ]
  },
  {
   "cell_type": "markdown",
   "metadata": {},
   "source": [
    "# Resourece\n",
    "\n",
    "A video by Raymond Hettinger - [Transforming Code into Beautiful, idiomatic Python](https://youtu.be/OSGv2VnC0go)\n",
    "\n",
    "\n",
    "# Comments or Questions?\n",
    "\n",
    "* Email: samarthgiripura@gmail.com\n",
    "* Twitter: @samarthgr\n"
   ]
  }
 ],
 "metadata": {
  "kernelspec": {
   "display_name": "Python 3",
   "language": "python",
   "name": "python3"
  },
  "language_info": {
   "codemirror_mode": {
    "name": "ipython",
    "version": 3
   },
   "file_extension": ".py",
   "mimetype": "text/x-python",
   "name": "python",
   "nbconvert_exporter": "python",
   "pygments_lexer": "ipython3",
   "version": "3.5.6"
  }
 },
 "nbformat": 4,
 "nbformat_minor": 2
}
